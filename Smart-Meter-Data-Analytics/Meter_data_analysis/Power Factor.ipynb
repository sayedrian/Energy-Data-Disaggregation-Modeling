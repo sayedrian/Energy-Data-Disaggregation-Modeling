{
 "cells": [
  {
   "cell_type": "code",
   "execution_count": 60,
   "id": "5bc2caf9-8c0d-47dd-aa9f-470c22c73efd",
   "metadata": {},
   "outputs": [],
   "source": [
    "import os\n",
    "import pandas as pd\n",
    "import numpy as np\n",
    "\n",
    "def load_process_all(folder_path):\n",
    "    \n",
    "    # Create an empty list to store DataFrames for each file\n",
    "    dataframes = []\n",
    "\n",
    "    # Loop through all CSV files and read them\n",
    "    for file_name in os.listdir(folder_path):\n",
    "        if file_name.endswith('.csv'):\n",
    "            file_path = os.path.join(folder_path, file_name)\n",
    "            df = pd.read_csv(file_path)\n",
    "\n",
    "            # Handle timestamp\n",
    "            df['timestamp'] = pd.to_datetime(df['timestamp'], errors='coerce')\n",
    "            df['timestamp'] = df['timestamp'].dt.floor('s')\n",
    "            df.dropna(subset=['timestamp'], inplace=True)\n",
    "            df = df.sort_values(by='timestamp')\n",
    "            \n",
    "            # Drop specified columns\n",
    "            columns_to_drop = ['complete','coil_reversed', 'device', 'channel', 'hz', 'firmware', 'timestamp_tz',\n",
    "                               'hour', 'Unnamed: 0.1', 'Unnamed: 0', 'event_id']\n",
    "            df = df.drop(columns=columns_to_drop)\n",
    "            df.dropna(subset=['active_power', 'apparent_power'], inplace=True)\n",
    "            \n",
    "\n",
    "            # Calculate Transients\n",
    "            for i in range(1, 11):\n",
    "                transient_name = f'Transient_{i}'\n",
    "                df[transient_name] = df[f'peak_{i}'] - df['current']\n",
    "\n",
    "            # Normalize Transients\n",
    "            for i in range(1, 11):\n",
    "                transient_name = f'Transient_{i}'\n",
    "                norm_transient_name = f'normalized_transient_{i}'\n",
    "                df[norm_transient_name] = df[transient_name] / np.sqrt((df[['Transient_1', 'Transient_2', 'Transient_3', 'Transient_4', 'Transient_5', 'Transient_6', 'Transient_7', 'Transient_8', 'Transient_9']] ** 2).sum(axis=1))\n",
    "\n",
    "            # Calculate Mean of Transients\n",
    "            df['mean_transient'] = df[['Transient_1', 'Transient_2', 'Transient_3', 'Transient_4', 'Transient_5', 'Transient_6', 'Transient_7', 'Transient_8', 'Transient_9', 'Transient_10']].mean(axis=1)\n",
    "\n",
    "            # Calculate Standard Deviation of Transients\n",
    "            df['std_transient'] = df[['Transient_1', 'Transient_2', 'Transient_3', 'Transient_4', 'Transient_5', 'Transient_6', 'Transient_7', 'Transient_8', 'Transient_9', 'Transient_10']].std(axis=1)\n",
    "\n",
    "            # Calculate the mean of the highest 7 transients\n",
    "            df['mean_top7_transient'] = df[['Transient_1', 'Transient_2', 'Transient_3', 'Transient_4', 'Transient_5', 'Transient_6', 'Transient_7', 'Transient_8', 'Transient_9', 'Transient_10']].apply(lambda row: row.nlargest(7).mean(), axis=1)\n",
    "            \n",
    "            \n",
    "            # Calculate cumulative energy\n",
    "            df['cumulative_energy'] = df['energy'].cumsum()\n",
    "\n",
    "            # Calculate the Power Factor for each event. set the power factor to None where the apparent power is zero\n",
    "            df['power_factor'] = df.apply(\n",
    "                lambda row: row['active_power'] / row['apparent_power'] if row['apparent_power'] != 0 else None, axis=1)\n",
    "\n",
    "            # Assign a column with the name of the file (e.g., sensor_0, sensor_1, etc.)\n",
    "            df['sensor_name'] = os.path.splitext(file_name)[0]\n",
    "            \n",
    "            # Append the cleaned DataFrame to the list\n",
    "            dataframes.append(df)\n",
    "\n",
    "    # Concatenate all DataFrames into a single DataFrame\n",
    "    combined_df = pd.concat(dataframes, ignore_index=True)\n",
    "    # converting wh to kwh\n",
    "    combined_df['energy'] = combined_df['energy'] / 1000\n",
    "\n",
    "    return combined_df\n"
   ]
  },
  {
   "cell_type": "code",
   "execution_count": 61,
   "id": "7717a2cd-1417-45ee-bb02-6bc9182b1016",
   "metadata": {},
   "outputs": [],
   "source": [
    "folder_path = 'data_set_1'\n",
    "df = load_process_all(folder_path)"
   ]
  },
  {
   "cell_type": "code",
   "execution_count": 62,
   "id": "28907549-a46e-4069-9075-d88f95bc728f",
   "metadata": {},
   "outputs": [
    {
     "data": {
      "text/plain": [
       "evt_type\n",
       "5    51188\n",
       "1    11365\n",
       "2     9804\n",
       "Name: count, dtype: int64"
      ]
     },
     "execution_count": 62,
     "metadata": {},
     "output_type": "execute_result"
    }
   ],
   "source": [
    "df['evt_type'].value_counts()"
   ]
  },
  {
   "cell_type": "markdown",
   "id": "bb508be0-85cb-436d-a9ba-cc9da0d5234d",
   "metadata": {},
   "source": [
    "##### ASSUMING 1 REPRESNT ON, 2 REPRESNT OFF, 5 REPRESENT KEEP ALIVE"
   ]
  },
  {
   "cell_type": "code",
   "execution_count": 63,
   "id": "7e7a5159-4d86-4c65-8533-232a5b202f92",
   "metadata": {},
   "outputs": [],
   "source": [
    "# Define a dictionary to map values\n",
    "event_type_mapping = {1: 'ON', 2: 'OFF', 5: 'KEEP ALIVE'}\n",
    "\n",
    "# Use the map method to update the 'event_type' column\n",
    "df['evt_type'] = df['evt_type'].map(event_type_mapping)\n"
   ]
  },
  {
   "cell_type": "code",
   "execution_count": 71,
   "id": "5a8c7052-0106-4912-99f9-b5b4549e782c",
   "metadata": {},
   "outputs": [],
   "source": [
    "import seaborn as sns\n",
    "import matplotlib.pyplot as plt\n",
    "\n",
    "def visualize_sensor_efficiency(df, sensor_names):\n",
    "    \"\"\"\n",
    "    Visualize the power factor distribution for each sensor (appliance).\n",
    "\n",
    "    Parameters:\n",
    "    df (DataFrame): DataFrame containing 'power_factor', 'evt_type', and 'sensor_name'.\n",
    "    sensor_names (list): List of sensor names to visualize.\n",
    "\n",
    "    Returns:\n",
    "    None: This function generates a plot.\n",
    "    \"\"\"\n",
    "    # Filter the DataFrame for the selected sensor names\n",
    "    df_filtered = df[df['sensor_name'].isin(sensor_names)]\n",
    "    \n",
    "    # Set the style of seaborn\n",
    "    sns.set_style(\"whitegrid\")\n",
    "\n",
    "    # Initialize the matplotlib figure\n",
    "    plt.figure(figsize=(14, 6))\n",
    "\n",
    "    # Create a boxplot for each sensor\n",
    "    sns.boxplot(x='sensor_name', y='power_factor', hue='evt_type', data=df_filtered, palette=\"Set3\")\n",
    "\n",
    "    # Set the title and labels\n",
    "    plt.title('Power Factor Distribution by Sensor (Appliance)')\n",
    "    plt.xlabel('Sensor (Appliance) Name')\n",
    "    plt.ylabel('Power Factor')\n",
    "    plt.xticks(rotation=45)  # Rotate the x labels for better readability\n",
    "\n",
    "    # Place the legend outside the plot\n",
    "    plt.legend(title='Event Type', bbox_to_anchor=(1.05, 1), loc='upper left')\n",
    "\n",
    "    # Show the plot\n",
    "    plt.tight_layout()  # Adjust the plot to ensure everything fits without overlapping\n",
    "    plt.show()\n"
   ]
  },
  {
   "cell_type": "code",
   "execution_count": 75,
   "id": "09eea49e-456c-4e4a-8825-8b53402c0a92",
   "metadata": {
    "scrolled": true
   },
   "outputs": [
    {
     "data": {
      "image/png": "[encoded data removed]",
      "text/plain": [
       "<Figure size 1400x600 with 1 Axes>"
      ]
     },
     "metadata": {},
     "output_type": "display_data"
    }
   ],
   "source": [
    "sensor_list = ['sensor_1', 'sensor_2', 'sensor_3']  \n",
    "visualize_sensor_efficiency(df, sensor_list)\n"
   ]
  },
  {
   "cell_type": "markdown",
   "id": "ffb3905e-02b9-441e-abca-bc261436d0cc",
   "metadata": {},
   "source": [
    "\n",
    "1. **Variability in Power Factor**: There is variability in power factor across different sensors and event types. The median power factor, as well as the spread of values, varies for each sensor, which could indicate differences in appliance efficiency.\n",
    "\n",
    "2. **Consistency**: Some sensors show a consistent power factor (narrow boxes), suggesting stable performance, while others have a wide interquartile range, indicating variability in efficiency during operation.\n",
    "\n",
    "3. **Efficiency Indicators**: A median power factor close to 1 is an indicator of high efficiency. Sensors that consistently show a power factor near 1, regardless of the event type, are likely operating efficiently.\n",
    "\n",
    "4. **Potential Inefficiency**: Sensors with a median power factor significantly below 1 may be associated with less efficient appliances, especially if this trend is consistent across 'ON' and 'OFF' events.\n",
    "\n",
    "5. **Outliers**: The presence of outliers suggests occasional deviations from typical performance. These could be instances where the appliance efficiency significantly drops or spikes, which may require further investigation.\n",
    "\n",
    "6. **Event Type Impact**: The power factor appears to differ during 'ON' and 'OFF' events for some sensors, which may provide insights into the appliances' performance during different operational states.\n",
    "\n",
    "7. **Stability During Keep Alive**: The 'KEEP ALIVE' events generally show less variation in power factor, suggesting that when appliances are not actively switching states, their power factor remains more stable.\n",
    "\n",
    "Overall, the boxplot suggests that there are notable differences in how appliances consume power in this environment. Appliances corresponding to sensors with lower or more variable power factors may need attention to improve overall energy efficiency. Further investigation into the reasons behind these patterns could help optimize power usage, reduce costs, or guide decisions about maintenance and equipment upgrades."
   ]
  },
  {
   "cell_type": "code",
   "execution_count": null,
   "id": "df394b63-573c-41c3-818e-8e454345891a",
   "metadata": {},
   "outputs": [],
   "source": []
  },
  {
   "cell_type": "code",
   "execution_count": null,
   "id": "b983c93d-6a8e-446a-aa1d-2c8a78f9a1e2",
   "metadata": {},
   "outputs": [],
   "source": []
  },
  {
   "cell_type": "code",
   "execution_count": null,
   "id": "be0bca9e-f426-4b21-9965-5876af87a3cb",
   "metadata": {},
   "outputs": [],
   "source": []
  },
  {
   "cell_type": "code",
   "execution_count": null,
   "id": "f664957f-2151-4e5e-9561-b8d09945e14d",
   "metadata": {},
   "outputs": [],
   "source": []
  },
  {
   "cell_type": "code",
   "execution_count": null,
   "id": "537c9d3c-1ad0-4347-b4bc-1495917b1570",
   "metadata": {},
   "outputs": [],
   "source": []
  },
  {
   "cell_type": "code",
   "execution_count": null,
   "id": "b829e95c-aa04-46b8-94cc-cb2cb44b197c",
   "metadata": {},
   "outputs": [],
   "source": []
  }
 ],
 "metadata": {
  "kernelspec": {
   "display_name": "Python 3 (ipykernel)",
   "language": "python",
   "name": "python3"
  },
  "language_info": {
   "codemirror_mode": {
    "name": "ipython",
    "version": 3
   },
   "file_extension": ".py",
   "mimetype": "text/x-python",
   "name": "python",
   "nbconvert_exporter": "python",
   "pygments_lexer": "ipython3",
   "version": "3.11.5"
  }
 },
 "nbformat": 4,
 "nbformat_minor": 5
}
