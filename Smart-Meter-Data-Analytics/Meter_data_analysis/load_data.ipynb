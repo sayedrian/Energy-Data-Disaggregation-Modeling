{
 "cells": [
  {
   "cell_type": "markdown",
   "id": "1a0bc6c5-b997-4cdf-b306-3b1f34b8067d",
   "metadata": {},
   "source": [
    "### load_data function:\n",
    "The `load_data` function performs essential data cleaning and analysis to make informed decisions about further preprocessing steps. It begins by loading the CSV file of sensor data. It corrects the timestamp column and removes columns based on a the general_check function. Afterward, the function analyze missing values and generates a summary report to chose missing value handling strategy."
   ]
  },
  {
   "cell_type": "code",
   "execution_count": 1,
   "id": "5c158eff-f735-4d19-9760-8a0d7e0b1980",
   "metadata": {},
   "outputs": [],
   "source": [
    "import pandas as pd\n",
    "\n",
    "def load_data(csv_file_path, report_title=\"Report of actions taken to prepare the dataset for analysis:\"):\n",
    "    print(report_title)\n",
    "    print()\n",
    "    \n",
    "    df = pd.read_csv(csv_file_path)\n",
    "\n",
    "    # Change the data type of 'timestamp_tz' to datetime\n",
    "    if 'timestamp_tz' in df.columns:\n",
    "        df['timestamp_tz'] = pd.to_datetime(df['timestamp_tz'], errors='coerce')\n",
    "\n",
    "    # List of columns to drop\n",
    "    columns_to_drop = ['timestamp', 'coil_reversed', 'device', 'channel', 'hz', 'firmware', 'hour', 'Unnamed: 0.1', 'Unnamed: 0', 'event_id']\n",
    "\n",
    "    # list to track dropped columns\n",
    "    dropped_columns = []\n",
    "\n",
    "    # Drop the specified columns\n",
    "    for col in columns_to_drop:\n",
    "        if col in df.columns:\n",
    "            df.drop(columns=[col], inplace=True)\n",
    "            dropped_columns.append(col)\n",
    "\n",
    "    # Print a message to indicate which columns were dropped\n",
    "    if dropped_columns:\n",
    "        print(f'Dropped columns: {\", \".join(dropped_columns)}')\n",
    "        print('The timestamp column was dropped because there are two columns')\n",
    "        print()\n",
    "        \n",
    "    # Check for missing values\n",
    "    if df.isna().values.any():\n",
    "        data_shape = df.shape\n",
    "        print(f'File shape: {data_shape[0]} rows and {data_shape[1]} columns')\n",
    "        print()\n",
    "        print('Missing values report:')\n",
    "        missing_values = df.isna().sum()\n",
    "        percentage_missing = (missing_values / len(df)) * 100\n",
    "        for column, total_missing, percentage in zip(missing_values.index, missing_values, percentage_missing):\n",
    "            if total_missing > 0:\n",
    "                print(f'{column} - {total_missing} - {percentage:.2f}%')\n",
    "\n",
    "    return df\n"
   ]
  },
  {
   "cell_type": "code",
   "execution_count": 2,
   "id": "2100c209-3f4c-4b20-93ad-fedfb0c03954",
   "metadata": {},
   "outputs": [
    {
     "name": "stdout",
     "output_type": "stream",
     "text": [
      "Report of actions taken to prepare the dataset for analysis:\n",
      "\n",
      "Dropped columns: timestamp, coil_reversed, device, channel, hz, firmware, hour, Unnamed: 0.1, Unnamed: 0, event_id\n",
      "The timestamp column was dropped because there are two columns\n",
      "\n",
      "File shape: 1040 rows and 42 columns\n",
      "\n",
      "Missing values report:\n",
      "active_power_delta - 52 - 5.00%\n",
      "apparent_power - 59 - 5.67%\n",
      "current - 106 - 10.19%\n",
      "energy - 53 - 5.10%\n",
      "voltage - 48 - 4.62%\n",
      "peak_1 - 49 - 4.71%\n",
      "peak_2 - 5 - 0.48%\n",
      "peak_3 - 8 - 0.77%\n",
      "peak_4 - 42 - 4.04%\n",
      "peak_5 - 53 - 5.10%\n",
      "peak_6 - 6 - 0.58%\n",
      "peak_7 - 24 - 2.31%\n",
      "peak_8 - 52 - 5.00%\n",
      "peak_9 - 6 - 0.58%\n",
      "peak_10 - 45 - 4.33%\n"
     ]
    }
   ],
   "source": [
    "csv_file_path = 'sensor_7.csv'\n",
    "df = load_data(csv_file_path)"
   ]
  },
  {
   "cell_type": "code",
   "execution_count": 3,
   "id": "b5217184-1c30-4c3e-88ad-bf5fda4f8e03",
   "metadata": {},
   "outputs": [
    {
     "data": {
      "text/plain": [
       "Index(['timestamp_tz', 'active_power', 'active_power_delta', 'apparent_power',\n",
       "       'complete', 'current', 'energy', 'energy_delta', 'evt_type',\n",
       "       'phase_shift', 'reactive_power', 'reactive_power_delta', 'voltage',\n",
       "       'wifi_strength', 'peak_1', 'peak_2', 'peak_3', 'peak_4', 'peak_5',\n",
       "       'peak_6', 'peak_7', 'peak_8', 'peak_9', 'peak_10', 'harmonic_img_1',\n",
       "       'harmonic_img_2', 'harmonic_img_3', 'harmonic_img_4', 'harmonic_img_5',\n",
       "       'harmonic_img_6', 'harmonic_img_7', 'harmonic_img_8', 'harmonic_img_9',\n",
       "       'harmonic_real_1', 'harmonic_real_2', 'harmonic_real_3',\n",
       "       'harmonic_real_4', 'harmonic_real_5', 'harmonic_real_6',\n",
       "       'harmonic_real_7', 'harmonic_real_8', 'harmonic_real_9'],\n",
       "      dtype='object')"
      ]
     },
     "execution_count": 3,
     "metadata": {},
     "output_type": "execute_result"
    }
   ],
   "source": [
    "df.columns"
   ]
  },
  {
   "cell_type": "code",
   "execution_count": 132,
   "id": "5f9db3d3-20c6-40b7-bd4f-e7cbaba035a4",
   "metadata": {},
   "outputs": [
    {
     "name": "stdout",
     "output_type": "stream",
     "text": [
      "<class 'pandas.core.frame.DataFrame'>\n",
      "RangeIndex: 9404 entries, 0 to 9403\n",
      "Data columns (total 42 columns):\n",
      " #   Column                Non-Null Count  Dtype         \n",
      "---  ------                --------------  -----         \n",
      " 0   timestamp_tz          9404 non-null   datetime64[ns]\n",
      " 1   active_power          9404 non-null   int64         \n",
      " 2   active_power_delta    8903 non-null   float64       \n",
      " 3   apparent_power        8944 non-null   float64       \n",
      " 4   complete              9404 non-null   bool          \n",
      " 5   current               8506 non-null   float64       \n",
      " 6   energy                8970 non-null   float64       \n",
      " 7   energy_delta          9404 non-null   int64         \n",
      " 8   evt_type              9404 non-null   int64         \n",
      " 9   phase_shift           9404 non-null   float64       \n",
      " 10  reactive_power        9404 non-null   int64         \n",
      " 11  reactive_power_delta  9404 non-null   int64         \n",
      " 12  voltage               8952 non-null   float64       \n",
      " 13  wifi_strength         9404 non-null   int64         \n",
      " 14  peak_1                8961 non-null   float64       \n",
      " 15  peak_2                9307 non-null   float64       \n",
      " 16  peak_3                9320 non-null   float64       \n",
      " 17  peak_4                9123 non-null   float64       \n",
      " 18  peak_5                8919 non-null   float64       \n",
      " 19  peak_6                9315 non-null   float64       \n",
      " 20  peak_7                9193 non-null   float64       \n",
      " 21  peak_8                8921 non-null   float64       \n",
      " 22  peak_9                9320 non-null   float64       \n",
      " 23  peak_10               9011 non-null   float64       \n",
      " 24  harmonic_img_1        9404 non-null   int64         \n",
      " 25  harmonic_img_2        9404 non-null   int64         \n",
      " 26  harmonic_img_3        9404 non-null   int64         \n",
      " 27  harmonic_img_4        9404 non-null   int64         \n",
      " 28  harmonic_img_5        9404 non-null   int64         \n",
      " 29  harmonic_img_6        9404 non-null   int64         \n",
      " 30  harmonic_img_7        9404 non-null   int64         \n",
      " 31  harmonic_img_8        9404 non-null   int64         \n",
      " 32  harmonic_img_9        9404 non-null   int64         \n",
      " 33  harmonic_real_1       9404 non-null   int64         \n",
      " 34  harmonic_real_2       9404 non-null   int64         \n",
      " 35  harmonic_real_3       9404 non-null   int64         \n",
      " 36  harmonic_real_4       9404 non-null   int64         \n",
      " 37  harmonic_real_5       9404 non-null   int64         \n",
      " 38  harmonic_real_6       9404 non-null   int64         \n",
      " 39  harmonic_real_7       9404 non-null   int64         \n",
      " 40  harmonic_real_8       9404 non-null   int64         \n",
      " 41  harmonic_real_9       9404 non-null   int64         \n",
      "dtypes: bool(1), datetime64[ns](1), float64(16), int64(24)\n",
      "memory usage: 3.0 MB\n"
     ]
    }
   ],
   "source": [
    "df.info()"
   ]
  },
  {
   "cell_type": "markdown",
   "id": "7c504336-c377-4cc3-8d73-6ffa6a1273b8",
   "metadata": {},
   "source": [
    "## Summary:\n",
    "##### For this analysis, I decided to keep missing values because removing them wouldn't significantly affect the insights. Instead, I explored the mathematical relationships between the other parameters. While it's possible to iterate through the data frame and fill the missing values, it's a bit long process. For the binary classification task, I used mean and interpolation to fill the missing values."
   ]
  },
  {
   "cell_type": "code",
   "execution_count": null,
   "id": "14f84cbe-fbf5-4345-8765-f7c87f8d36dd",
   "metadata": {},
   "outputs": [],
   "source": []
  },
  {
   "cell_type": "code",
   "execution_count": null,
   "id": "57731a14-9ee1-4264-b75f-2379ed9e6fd7",
   "metadata": {},
   "outputs": [],
   "source": []
  }
 ],
 "metadata": {
  "kernelspec": {
   "display_name": "Python 3 (ipykernel)",
   "language": "python",
   "name": "python3"
  },
  "language_info": {
   "codemirror_mode": {
    "name": "ipython",
    "version": 3
   },
   "file_extension": ".py",
   "mimetype": "text/x-python",
   "name": "python",
   "nbconvert_exporter": "python",
   "pygments_lexer": "ipython3",
   "version": "3.11.5"
  }
 },
 "nbformat": 4,
 "nbformat_minor": 5
}
