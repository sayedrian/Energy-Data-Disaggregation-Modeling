{
 "cells": [
  {
   "cell_type": "markdown",
   "id": "96f01019-4030-450d-84f6-279af3c9b4a5",
   "metadata": {},
   "source": [
    "The `predict_event` function process a fridge's CSV data file, employ a pre-trained Random Forest model to generate predictions, and manage any errors that could occur during this operation. In the context of the predictions, the output is binary, with \"1\" representing an ON/OFF event and \"0\" indicating a KEEP ALIVE event."
   ]
  },
  {
   "cell_type": "code",
   "execution_count": 4,
   "id": "29039882-afec-4505-89b5-826c2f9da232",
   "metadata": {},
   "outputs": [],
   "source": [
    "import pandas as pd\n",
    "from joblib import load\n",
    "\n",
    "def predict_event(csv_file):\n",
    "    try:\n",
    "        \n",
    "        df = pd.read_csv(csv_file)\n",
    "\n",
    "        # Ensure the 'timestamp' column exists in the DataFrame\n",
    "        if 'timestamp' not in df.columns:\n",
    "            raise ValueError(\"The input CSV file must have a 'timestamp' column.\")\n",
    "\n",
    "        # Convert and preprocess the data as needed\n",
    "        df['timestamp'] = pd.to_datetime(df['timestamp'], format=\"%Y-%m-%d %H:%M:%S.%f\", errors='coerce')\n",
    "        df['timestamp'] = df['timestamp'].dt.strftime(\"%Y-%m-%d %H:%M:%S\")\n",
    "        df['timestamp'] = pd.to_datetime(df['timestamp'], format=\"%Y-%m-%d %H:%M:%S\")\n",
    "        df['hour'] = df['timestamp'].dt.hour\n",
    "        df['minute'] = df['timestamp'].dt.minute\n",
    "        df.drop('timestamp', axis=1, inplace=True)\n",
    "        df = df[['active_power', 'current', 'transient_1', 'transient_2', 'transient_3', 'transient_4', 'transient_5', 'transient_7',\n",
    "                 'peak_1', 'peak_2', 'peak_3', 'peak_4', 'peak_5', 'peak_6', 'peak_7', 'peak_8', 'peak_9', 'peak_10', 'hour']]\n",
    "\n",
    "        columns_to_fill = {\n",
    "            'current': 'mean',\n",
    "            'active_power': 'mean',\n",
    "        }\n",
    "        \n",
    "        for column, method in columns_to_fill.items():\n",
    "            if method == 'mean':\n",
    "                mean_value = df[column].mean()\n",
    "                df[column].fillna(mean_value, inplace=True)\n",
    "        \n",
    "        transient_columns = ['transient_1', 'transient_2', 'transient_3', 'transient_4', 'transient_5', 'transient_7']\n",
    "        peak_columns = ['peak_1', 'peak_2', 'peak_3', 'peak_4', 'peak_5', 'peak_6', 'peak_7', 'peak_8', 'peak_9', 'peak_10']\n",
    "\n",
    "        df[transient_columns] = df[transient_columns].interpolate(method='linear', axis=0)\n",
    "        df[peak_columns] = df[peak_columns].interpolate(method='linear', axis=0)\n",
    "\n",
    "        # Drop rows with NaN values in the input data\n",
    "        df.dropna(inplace=True)\n",
    "\n",
    "        # Reset the index of the DataFrame\n",
    "        df.reset_index(drop=True, inplace=True)\n",
    "        \n",
    "        # Load the trained model\n",
    "        model = load('fridge_rf_model.joblib')\n",
    "\n",
    "        # Make predictions\n",
    "        predictions = model.predict(df)\n",
    "\n",
    "\n",
    "        return predictions\n",
    "\n",
    "    except FileNotFoundError:\n",
    "        return \"Error: The specified CSV file was not found.\"\n",
    "\n",
    "    except ValueError as ve:\n",
    "        return str(ve)\n",
    "\n",
    "    except Exception as e:\n",
    "        return f\"An error occurred: {str(e)}\"\n"
   ]
  },
  {
   "cell_type": "code",
   "execution_count": 5,
   "id": "43124819-d0ea-4bf2-9bff-7d7ac5b9ce16",
   "metadata": {},
   "outputs": [
    {
     "name": "stdout",
     "output_type": "stream",
     "text": [
      "[1 0 0 1 0 0 1 0 1 1]\n"
     ]
    }
   ],
   "source": [
    "# Prediction:\n",
    "\n",
    "csv_file = 'random.csv' \n",
    "result = predict_event(csv_file)\n",
    "\n",
    "print(result)\n",
    "\n"
   ]
  },
  {
   "cell_type": "code",
   "execution_count": null,
   "id": "d772029e-b2e4-4a81-a9b2-8e04111790be",
   "metadata": {},
   "outputs": [],
   "source": []
  }
 ],
 "metadata": {
  "kernelspec": {
   "display_name": "Python 3 (ipykernel)",
   "language": "python",
   "name": "python3"
  },
  "language_info": {
   "codemirror_mode": {
    "name": "ipython",
    "version": 3
   },
   "file_extension": ".py",
   "mimetype": "text/x-python",
   "name": "python",
   "nbconvert_exporter": "python",
   "pygments_lexer": "ipython3",
   "version": "3.11.5"
  }
 },
 "nbformat": 4,
 "nbformat_minor": 5
}
